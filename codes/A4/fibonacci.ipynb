{
 "cells": [
  {
   "cell_type": "code",
   "execution_count": 156,
   "metadata": {},
   "outputs": [],
   "source": [
    "import numpy as np \n",
    "from Neuronal_dynamics import *"
   ]
  },
  {
   "cell_type": "code",
   "execution_count": 157,
   "metadata": {},
   "outputs": [
    {
     "name": "stdout",
     "output_type": "stream",
     "text": [
      "capacitance =  100.0\n"
     ]
    }
   ],
   "source": [
    "E_l = 0\n",
    "R_l = 1\n",
    "t_ref = 0\n",
    "tau = 10 \n",
    "v_reset = 0\n",
    "dt = 0.1\n",
    "T_max = 10 #10 ms based intervals are being used for the simulation\n",
    "I = 10 \n",
    "v_0 = 0\n",
    "v_th = 1 \n",
    "t = 0\n",
    "xs = []\n",
    "ys = []\n",
    "capacitance = tau/R_l*10\n",
    "spike_count = 0\n",
    "print(\"capacitance = \", capacitance)"
   ]
  },
  {
   "cell_type": "code",
   "execution_count": 158,
   "metadata": {},
   "outputs": [
    {
     "name": "stdout",
     "output_type": "stream",
     "text": [
      "1.0\n",
      "10.0\n",
      "0.1\n"
     ]
    }
   ],
   "source": [
    "slope = I/capacitance\n",
    "movement = v_th/slope\n",
    "predicted_spike_count = T_max/movement\n",
    "print(predicted_spike_count)\n",
    "print(movement)\n",
    "print(slope)"
   ]
  },
  {
   "cell_type": "code",
   "execution_count": 159,
   "metadata": {},
   "outputs": [],
   "source": [
    "if_1 = IF(v_th, capacitance, E_l, v_reset, t_ref)\n",
    "x1s, y1s, spike_count_1 = if_1.simulate(T_max, I, dt)\n",
    "spike_freq_1 = spike_count_1/T_max"
   ]
  },
  {
   "cell_type": "code",
   "execution_count": 160,
   "metadata": {},
   "outputs": [
    {
     "name": "stdout",
     "output_type": "stream",
     "text": [
      "spike count =  1\n",
      "0.1\n"
     ]
    },
    {
     "data": {
      "image/png": "[encoded data removed]",
      "text/plain": [
       "<Figure size 640x480 with 1 Axes>"
      ]
     },
     "metadata": {},
     "output_type": "display_data"
    }
   ],
   "source": [
    "if (len(x1s) == len(y1s)):\n",
    "    plt.plot(y1s, x1s)\n",
    "    print(\"spike count = \", spike_count_1)\n",
    "    print(spike_freq_1)\n",
    "else:\n",
    "    plt.plot(y1s[:-1], x1s)\n",
    "    print(\"spike count = \", spike_count_1)\n",
    "    print(spike_freq_1)"
   ]
  },
  {
   "cell_type": "code",
   "execution_count": 161,
   "metadata": {},
   "outputs": [],
   "source": [
    "def transform_current_to_needed_spike(I, spikes_needed):\n",
    "    return 10*spikes_needed"
   ]
  },
  {
   "cell_type": "code",
   "execution_count": 162,
   "metadata": {},
   "outputs": [
    {
     "name": "stdout",
     "output_type": "stream",
     "text": [
      "t =  0\n",
      "Spike count at t = 0 to t = 10 = 0\n",
      "Spike count at t = 0 to t = 10 = 1\n",
      "-----------Total spikes from t = 0 to t = 20 = 1---------------\n",
      "t =  20\n",
      "Spike count at t = 20 to t = 30 = 1\n",
      "Spike count at t = 20 to t = 30 = 1\n",
      "-----------Total spikes from t = 20 to t = 40 = 2---------------\n",
      "t =  40\n",
      "Spike count at t = 40 to t = 50 = 1\n",
      "Spike count at t = 40 to t = 50 = 2\n",
      "-----------Total spikes from t = 40 to t = 60 = 3---------------\n",
      "t =  60\n",
      "Spike count at t = 60 to t = 70 = 2\n",
      "Spike count at t = 60 to t = 70 = 3\n",
      "-----------Total spikes from t = 60 to t = 80 = 5---------------\n",
      "t =  80\n",
      "Spike count at t = 80 to t = 90 = 3\n",
      "Spike count at t = 80 to t = 90 = 5\n",
      "-----------Total spikes from t = 80 to t = 100 = 8---------------\n"
     ]
    }
   ],
   "source": [
    "# now we need our three nurons that will simulate the Fibonacci sequence\n",
    "\n",
    "A = IF(v_th, capacitance, E_l, v_reset, t_ref)\n",
    "B = IF(v_th, capacitance, E_l, v_reset, t_ref)\n",
    "A_delay = 0\n",
    "I_A = 0\n",
    "I_B = 10\n",
    "B_delay = 10\n",
    "T_simulation = 100\n",
    "for t in range(T_simulation):\n",
    "    if (t%20 == 0):\n",
    "        print(\"t = \", t)\n",
    "        # simulate A and B for the solid 10 seconds and then record the spike count at the end of the 10 seconds\n",
    "        # that is present at C ( the post - synaptic neuron, then based on the spike counts needed, we transofmr B's current to \n",
    "        # look exactly like C's current and then  we make A's current look like B's)\n",
    "        # then we repeat the simulation\n",
    "        _,_, sc_A = A.simulate(10, I_A, dt)\n",
    "        print(\"Spike count at t = {} to t = {} = {}\".format(t, t+10, sc_A))\n",
    "        ### Delay of 10 seconds here\n",
    "        _,_, sc_B  = B.simulate(10, I_B, dt)\n",
    "        print(\"Spike count at t = {} to t = {} = {}\".format(t, t+10, sc_B))\n",
    "        print(\"-----------Total spikes from t = {} to t = {} = {}---------------\".format(t,t + 20,(sc_A + sc_B)))\n",
    "        # transform B's current to create spikes equal to total spikes of C in that interval and A's to look like B's\n",
    "        I_A = I_B\n",
    "        I_B = transform_current_to_needed_spike(I_B, sc_A + sc_B)\n",
    "        t = t + 20\n",
    "        pass"
   ]
  }
 ],
 "metadata": {
  "kernelspec": {
   "display_name": "base",
   "language": "python",
   "name": "python3"
  },
  "language_info": {
   "codemirror_mode": {
    "name": "ipython",
    "version": 3
   },
   "file_extension": ".py",
   "mimetype": "text/x-python",
   "name": "python",
   "nbconvert_exporter": "python",
   "pygments_lexer": "ipython3",
   "version": "3.9.15"
  },
  "orig_nbformat": 4
 },
 "nbformat": 4,
 "nbformat_minor": 2
}
